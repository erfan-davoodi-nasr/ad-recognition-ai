{
  "nbformat": 4,
  "nbformat_minor": 0,
  "metadata": {
    "colab": {
      "provenance": [],
      "authorship_tag": "ABX9TyOApeDKJA9v1JhPEcwvFS8l",
      "include_colab_link": true
    },
    "kernelspec": {
      "name": "python3",
      "display_name": "Python 3"
    },
    "language_info": {
      "name": "python"
    }
  },
  "cells": [
    {
      "cell_type": "markdown",
      "metadata": {
        "id": "view-in-github",
        "colab_type": "text"
      },
      "source": [
        "<a href=\"https://colab.research.google.com/github/erfan-davoodi-nasr/ad-recognition-ai/blob/main/ad_recognition.ipynb\" target=\"_parent\"><img src=\"https://colab.research.google.com/assets/colab-badge.svg\" alt=\"Open In Colab\"/></a>"
      ]
    },
    {
      "cell_type": "code",
      "source": [
        "from sklearn.feature_extraction.text import CountVectorizer\n",
        "from sklearn.naive_bayes import MultinomialNB\n",
        "from sklearn.model_selection import train_test_split\n",
        "from sklearn.metrics import accuracy_score\n",
        "\n",
        "# This is just a simple example, you should input your own data\n",
        "texts = [\n",
        "    'Buy now!',\n",
        "    \"Bravo 😂👏🏻 Don’t let anyone steal them from you🤫\",\n",
        "    \"Hello, can I add the user of the Sanai panel to the Marzban node or the Marzban server?\",\n",
        "    \"Hi I need 1 hetzner account\",\n",
        "    \"You had to try , i can't remember but there is\",\n",
        "    \"what point is this? 11?\",\n",
        "    \"https://github.com/MHSanaei/3x-ui/discussions/1184 How to solve the search problem for anyone who need\",\n",
        "    \"Nobody knows how to warp Germany if the server is in Russia?\",\n",
        "    \"#bug A problem that causes the xray to crash sometimes and cannot be resolved without restarting the xray, we recently encountered this issue and the reason is not clear, please check 🙏\",\n",
        "    'Hello, how are you?',\n",
        "    \"What is your favorite food?\",\n",
        "    \"Where are you planning to go for your next vacation?\",\n",
        "    \"What genre of music do you like?\",\n",
        "    \"Do you recommend any new book that you have read?\",\n",
        "    \"What was the last movie you watched?\",\n",
        "    \"Do you have any special plans for the weekend?\",\n",
        "    \"The weather is really nice today, is not it?\",\n",
        "    \"Order quality food at a reasonable price! Various types of Iranian food with suitable volume and lower price in SnapFood turn on the good price filter.\",\n",
        "    \"Erfan dear, 75,000 Tomans special discount for the first pastry order from SnapFood. Your exclusive discount code: RWNVVNQKY77J. Expiry date: November 1st, 2023.\",\n",
        "    \"Erfan dear, 15% discount on food order from Jo restaurant until November 19th. Order now from SnapFood.\",\n",
        "    \"The ‘Autumn Coin Drop’ event has started in Owano. Every week, 7 half Azadi coins for 7 people until the end of autumn season, with every 10,000 Tomans purchase of charge or internet package and every time you pay a bill, get 10 chances.\",\n",
        "    \"The weather is getting cold, take care of yourself! Click on the link below and get a free appointment from among 15,000 doctors with different specialties.\",\n",
        "    \"Hello dear friend, we are studying people’s interest in video content. By spending 3 to 5 minutes and completing this questionnaire, you can help us to create a unique experience in this field for you.\",\n",
        "    \"70 Tomans discount code for Okala. 2 discount codes of 35 Tomans each. Code kA783. Minimum purchase 100. Valid for 5 days. Special for all goods.\",\n",
        "    \"40% discount on Rub. 30% discount on oil. 40% discount on cheese with free shipping in the autumn super discount! Go to Okala and order whatever you need for this month with fast delivery.\",\n",
        "    \"Bahman holidays are travel time! 100,000 Tomans discount on villa reservation: OTGYELL. Roomk application for renting villa and suite. Install now.\",\n",
        "    \"4% discount on third party insurance up to 300,000 Tomans! You can now get and renew your third party car insurance from the IranCellMan super app at the best price.\",\n",
        "    \"Free field selection!!!🤩 ✅Specialized and free consultation for field selection in Konkur ✅Introduction of universities ✅Rank estimation software ✅6 live Q&A with the best consultants in the country and… ✨Everything you need for a successful field selection is in Ino👇 https://ino.school/landing/field-selection\",\n",
        "    \"Don’t miss out on Tapsi’s school service! 30% cheaper With a fixed driver tapsi.me/sj\",\n",
        "    \"Special study for employees* Without presence in class Associate’s/Bachelor’s degree Cost 8M Send 3\",\n",
        "    \"Easy study❗️Special for employees❗️ Without presence/installments Associate’s/Bachelor’s degree Send8 Cancel11\",\n",
        "    \"60,000 Tomans discount on Snapp Express! 2 orders of 30,000 Tomans Code: L26R7QT73 Minimum purchase of 100,000 Tomans Until September 28 https://snpx.link/r/Xp\",\n",
        "    \"Hello❤️ 55% discount on Sadeghieh opening Glasses, lens, examination 8 days 09017273935 Cancel11\",\n",
        "    \"Arbaeen public donation collection plan 🚩In order to provide welfare services and accommodation for Husseini pilgrims in Karbala ⭕️Proceed through the link below https://pay.s23.ir/arbaeen Arbaeen Jihadist Base People’s Mowkib of Hazrat Umm Al-Imams (AS) Cancel11\",\n",
        "    \"The Snapp super app is waiting for you! Snapp hopes to be with your moments again and get you to your destination more comfortably. For a fresh start, click on the link below and install Snapp: i.weurl.co/BwU04m\",\n",
        "    \"300,000 Tomans discount on Snapp Trip for Rightel users 140,000 Tomans discount on domestic hotels STRTH1 150,000 Tomans discount on international flights STRTLF 10,000 Tomans discount on buses STRTLB Expiration until the end of October snpt.rip/3cfp\",\n",
        "    \"Free travel with Snapp, the prize for activating the “Direct Payment” option! If you activate the direct payment option by the end of today, you will receive a discount code for a car request with Snapp as a prize 24 hours later and you can reach your destination for free. To activate, click on the link below: https://n.snpp.link/r/Y164L\",\n",
        "    \"24,000 Tomans discount on Snapp for 4 trips! For the first 2 trips, get a 4,000 Tomans discount each time and for each of the next two trips, get an 8,000 Tomans discount. Discount code: NCST-24 Validity: Until October 1 i.weurl.co/Yw1i8R\",\n",
        "    \"Fast and free delivery in the ‘Dartil’ app! 100,000 Tomans gift for the first purchase from the app. Code: DRTapp. Limited time. Special for Tehran city. Install now.\",\n",
        "    \"Dear, here is an English chat, not Farsi, are you really not paying attention or you have misunderstood\",\n",
        "    \"Papa John’s: Hungry? Order online and get 25% off regular menu priced pizzas with code 25OFF. Valid thru 11/30/23. [link/60ecf453-50cb-5f9]\",\n",
        "    \"Express: Don’t miss out! Last day to save up to 50% off everything in-store and online. Plus, get an extra 10% off with code 3498. Shop now: [link/60ecf453-50cb-5f9]\",\n",
        "    \"AutoZone: Need a tune-up? Get $15 off your next purchase of $50 or more at AutoZone. Show this text at checkout to redeem. Expires 12/31/23.\",\n",
        "    \"Sephora: Beauty Insider, you’ve earned a reward! Choose a free deluxe sample with any $25 purchase. Use code PICKONE at checkout. Shop now: [link/60ecf453-50cb-5f9]\",\n",
        "    \"Starbucks: Happy Friday! Treat yourself to a free drink when you buy one today from 2-5 pm. Show this text to your barista to redeem. Limit one per customer.\",\n",
        "    \"Target: Don’t miss our biggest sale of the year! Save up to 70% off on thousands of items, from clothing and electronics to home and beauty. Plus, get an extra 10% off with your RedCard. Shop now: [link/60ecf453-50cb-5f9]\",\n",
        "    \"Domino’s: Feeling hungry? Order a delicious pizza from Domino’s and get 50% off any menu-priced pizza. Hurry, this offer ends soon. Order online or call us at 555-5555.\",\n",
        "    \"Spotify: Music lover, we have a treat for you. Discover new songs and artists with Spotify Premium, and enjoy ad-free listening, offline mode, and unlimited skips. Try it free for 30 days. No strings attached.\",\n",
        "    \"Nike: Ready to run? Check out our new collection of running shoes and gear, designed to help you reach your goals. Plus, get free shipping on orders over $100. Shop now: [link/60ecf453-50cb-5f9]\",\n",
        "    \"Netflix: Hey, binge-watcher! Don’t miss the latest season of your favorite show, now streaming on Netflix. Watch it now and get a free month of subscription. Use code BINGEON at checkout.\",\n",
        "    \"This is an English chat group, dear, not Farsi\",\n",
        "    \"Send an screenshot of the UI\",\n",
        "    \"What's the configuration for your inbound?\",\n",
        "    \"thanks 👍\",\n",
        "    \"I still have this problem\",\n",
        "    \"yep but should I enable this option?\",\n",
        "    \"Alireza's panel is a good panel without bugs\",\n",
        "    \"i'm using X-UI from alirezza\",\n",
        "    \"I think it is an added feature\",\n",
        "    \"because there's this option called tcp fastopen\",\n",
        "    \"should I enable transparent proxy? would it help with latency/speed?\",\n",
        "    \"Guys which protocol was speed?\",\n",
        "    \"The new iPhone is here, and it's better than ever. With a stunning new design, a powerful new A16 Bionic chip, and a groundbreaking new camera system, the new iPhone is the perfect phone for anyone looking for the best possible experience. \",\n",
        "    \"We're having a sale! Get 20% off your next purchase when you use the code SALE20 at checkout. This offer is valid on all items in our store, so do not miss out. 20% Off Sale\",\n",
        "    \"Sign up for our newsletter and get a free gift! When you sign up, you'll receive a 10% off coupon for your next purchase, as well as exclusive access to new products and promotions.Free Gift\",\n",
        "    \"We're excited to announce the launch of our new product, the [product name]. The [product name] is the perfect solution for [target audience], and it's sure to change the way you [product benefit]. \",\n",
        "    \"This offer is only available for a limited time, so don't miss out! Get [discount] off your next purchase when you use the code [code] at checkout. Limited Time Offer\",\n",
        "    \"The new year is a time for new beginnings, and what better way to start fre New Year's Resolutions\",\n",
        "    \"Our new [product name] is the latest and greatest [product category], and it's sure to turn heads. With its sleek design and cutting-edge features, the [product name] is the perfect way to show off your style and sophistication. Trendy Product\",\n",
        "\n",
        "\n",
        "    ]\n",
        "\n",
        "labels = [1,0,0,0,0,0,0,0,0,0,0,0,0,0,0,0,0,1,1,1,1,1,1,1,1,1,1,1,1,1,1,1,1,1,1,1,1,1,1,0,1,1,1,1,1,1,1,1,1,1,0,0,0,0,0,0,0,0,0,0,0,0,1,1,1,1,1,1,1]\n",
        "\n",
        "\n",
        "vectorizer = CountVectorizer()\n",
        "features = vectorizer.fit_transform(texts)\n",
        "\n",
        "# Split the data into training and testing sets\n",
        "features_train, features_test, labels_train, labels_test = train_test_split(features, labels, test_size=0.2)\n",
        "\n",
        "model = MultinomialNB()\n",
        "model.fit(features_train, labels_train)\n",
        "\n",
        "# Now you can check a new text\n",
        "new_text = input('Enter a text to check: ')\n",
        "new_features = vectorizer.transform([new_text])\n",
        "\n",
        "prediction = model.predict(new_features)\n",
        "\n",
        "if prediction[0] == 1:\n",
        "    print('This text is an advertisement.')\n",
        "else:\n",
        "    print('This text is not an advertisement.')\n",
        "\n",
        "# Print the accuracy of the model\n",
        "labels_pred = model.predict(features_test)\n",
        "accuracy = accuracy_score(labels_test, labels_pred)\n",
        "print(f'The accuracy of the model is {accuracy * 100:.2f}%')\n"
      ],
      "metadata": {
        "colab": {
          "base_uri": "https://localhost:8080/"
        },
        "id": "Jn8WYGu5qLIS",
        "outputId": "f8549b0e-7761-4295-93bd-a5c6464beacc"
      },
      "execution_count": null,
      "outputs": [
        {
          "output_type": "stream",
          "name": "stdout",
          "text": [
            "Enter a text to check: hi how are you my name is erfan and imam living in tehran iran i like many type of food like ghorme sabzi and gheyme and pizza so now tell me what is your favorite food?\n",
            "This text is not an advertisement.\n",
            "The accuracy of the model is 85.71%\n"
          ]
        }
      ]
    }
  ]
}